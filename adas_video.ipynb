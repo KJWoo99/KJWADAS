{
 "cells": [
  {
   "cell_type": "code",
   "execution_count": 1,
   "metadata": {},
   "outputs": [],
   "source": [
    "import sys\n",
    "import os\n",
    "\n",
    "# 현재 작업 디렉토리를 가져옵니다\n",
    "current_dir = os.getcwd()\n",
    "\n",
    "# 원하는 디렉토리의 절대 경로를 구성합니다\n",
    "target_path = os.path.abspath(os.path.join(current_dir, '..', 'adas', 'pytorch-nested-unet'))\n",
    "\n",
    "# sys.path에 추가합니다\n",
    "sys.path.append(target_path)\n"
   ]
  },
  {
   "cell_type": "code",
   "execution_count": 2,
   "metadata": {},
   "outputs": [
    {
     "name": "stdout",
     "output_type": "stream",
     "text": [
      "WARNING  Known issue with torch>=2.4.0 on Windows with CPU, recommend downgrading to torch<=2.3.1 to resolve https://github.com/ultralytics/ultralytics/issues/15049\n"
     ]
    }
   ],
   "source": [
    "from PIL import Image\n",
    "import numpy as np\n",
    "import os\n",
    "import cv2\n",
    "import matplotlib.pyplot as plt\n",
    "import torch\n",
    "import yaml\n",
    "from ultralytics import YOLO\n",
    "from ultralytics.utils.plotting import Annotator\n",
    "import archs\n",
    "\n",
    "%matplotlib inline\n"
   ]
  },
  {
   "cell_type": "code",
   "execution_count": 3,
   "metadata": {},
   "outputs": [
    {
     "name": "stdout",
     "output_type": "stream",
     "text": [
      "{'arch': 'NestedUNet', 'batch_size': 4, 'dataset': 'lane', 'deep_supervision': False, 'early_stopping': -1, 'epochs': 300, 'factor': 0.1, 'gamma': 0.6666666666666666, 'img_ext': '.png', 'input_channels': 3, 'input_h': 256, 'input_w': 512, 'loss': 'BCEDiceLoss', 'lr': 1e-05, 'mask_ext': '.png', 'milestones': '1,2', 'min_lr': 1e-05, 'momentum': 0.9, 'name': 'lane_segmentation', 'nesterov': False, 'num_classes': 2, 'num_workers': 4, 'optimizer': 'Adam', 'patience': 2, 'scheduler': 'CosineAnnealingLR', 'weight_decay': 0.0001}\n",
      "c:\\Users\\kjw_9\\Desktop\\adas\n"
     ]
    }
   ],
   "source": [
    "# 필요한 경로 설정\n",
    "pjt_folder = os.path.abspath(os.getcwd())\n",
    "od_model = os.path.join(pjt_folder, 'models', 'adas_car_detection.pt')\n",
    "ss_model = os.path.join(pjt_folder, 'models', 'adas_lane_segmentation.pth')\n",
    "yml_path = os.path.join(pjt_folder, 'models', 'config.yml')\n",
    "video_path = os.path.join(pjt_folder, 'dataset', 'video1.mp4')\n",
    "output_video_path = os.path.join(pjt_folder, 'dataset', 'processed_video1.mp4')\n",
    "\n",
    "# 색상 정의\n",
    "color_dict = {'car': (255, 0, 0), 'pedestrian': (0, 0, 255), 'motorcycle': (255, 0, 0)}\n",
    "\n",
    "# YAML 파일 로드\n",
    "with open(yml_path) as f:\n",
    "    data = yaml.load(f, Loader=yaml.FullLoader)\n",
    "print(data)\n",
    "\n",
    "print(pjt_folder)"
   ]
  },
  {
   "cell_type": "code",
   "execution_count": 4,
   "metadata": {},
   "outputs": [
    {
     "name": "stdout",
     "output_type": "stream",
     "text": [
      "Segmentation model loaded\n",
      "YOLO Model Loaded\n"
     ]
    }
   ],
   "source": [
    "# 세그멘테이션 모델 로드\n",
    "DEVICE = torch.device(\"cuda\")\n",
    "model = archs.__dict__[data['arch']](data['num_classes'], data['input_channels'], data['deep_supervision'])\n",
    "model = model.to(DEVICE)\n",
    "model.load_state_dict(torch.load(ss_model, map_location=DEVICE))\n",
    "print(\"Segmentation model loaded\")\n",
    "\n",
    "# 객체 탐지 모델 로드\n",
    "yolo_model = YOLO(od_model)\n",
    "yolo_model.to(DEVICE)\n",
    "print(\"YOLO Model Loaded\")"
   ]
  },
  {
   "cell_type": "code",
   "execution_count": 5,
   "metadata": {},
   "outputs": [],
   "source": [
    "# 비디오 읽기 및 쓰기 설정\n",
    "cap = cv2.VideoCapture(video_path)\n",
    "fps = cap.get(cv2.CAP_PROP_FPS)\n",
    "frame_width = int(cap.get(cv2.CAP_PROP_FRAME_WIDTH))\n",
    "frame_height = int(cap.get(cv2.CAP_PROP_FRAME_HEIGHT))\n",
    "\n",
    "fourcc = cv2.VideoWriter_fourcc(*'mp4v')  # 'XVID', 'MJPG', 'MP4V' 등이 사용될 수 있음\n",
    "out = cv2.VideoWriter(output_video_path, fourcc, fps, (frame_width, frame_height))\n"
   ]
  },
  {
   "cell_type": "code",
   "execution_count": 6,
   "metadata": {},
   "outputs": [],
   "source": [
    "# 차선 그리기 함수\n",
    "def draw_lane(ori_img, model):\n",
    "    img = cv2.resize(ori_img, (512, 256))\n",
    "    input = img.astype('float32') / 255\n",
    "    input = np.expand_dims(input, axis=0)\n",
    "    input = torch.from_numpy(input).to(DEVICE)\n",
    "    input = input.permute(0, 3, 1, 2)\n",
    "    output = model(input)\n",
    "    output = torch.sigmoid(output)\n",
    "    output = output.permute(0, 2, 3, 1).cpu().detach()\n",
    "\n",
    "    pred = np.array(output[0]) * 255\n",
    "    pred_final = pred[:, :, 0] + pred[:, :, 1]\n",
    "    pred_final = cv2.resize(pred_final, (ori_img.shape[1], ori_img.shape[0]))\n",
    "    _, pred_final = cv2.threshold(pred_final, 250, 255, cv2.THRESH_BINARY)\n",
    "\n",
    "    lane = np.zeros_like(ori_img)\n",
    "    lane[:, :, 1] = pred_final\n",
    "    result = cv2.addWeighted(lane, 0.9, ori_img, 1.0, 0.0)\n",
    "    return result"
   ]
  },
  {
   "cell_type": "code",
   "execution_count": 7,
   "metadata": {},
   "outputs": [],
   "source": [
    "# 중앙 구역 정의 (차선 사이의 영역)\n",
    "def is_within_center_zone(box, frame_width, frame_height):\n",
    "    x_min, y_min, x_max, y_max = box\n",
    "    center_x = frame_width // 2\n",
    "    center_y = frame_height // 2\n",
    "    width = x_max - x_min\n",
    "    height = y_max - y_min\n",
    "    \n",
    "    # 중앙 영역의 좌표\n",
    "    central_zone_x_min = center_x - width // 2\n",
    "    central_zone_x_max = center_x + width // 2\n",
    "    central_zone_y_min = center_y - height // 2\n",
    "    central_zone_y_max = center_y + height // 2\n",
    "    \n",
    "    # 박스가 중앙 영역에 포함되는지 확인\n",
    "    return not (x_max < central_zone_x_min or x_min > central_zone_x_max or y_max < central_zone_y_min or y_min > central_zone_y_max)"
   ]
  },
  {
   "cell_type": "code",
   "execution_count": null,
   "metadata": {},
   "outputs": [],
   "source": [
    "# 비디오 프레임 처리\n",
    "while True:\n",
    "    ret, frame = cap.read()\n",
    "    if not ret:\n",
    "        break\n",
    "\n",
    "    ori_img = cv2.cvtColor(frame, cv2.COLOR_BGR2RGB)\n",
    "\n",
    "    # 차선 그리기\n",
    "    result_lane = draw_lane(ori_img, model)\n",
    "\n",
    "    # 객체 탐지\n",
    "    results = yolo_model(ori_img)\n",
    "\n",
    "    black_img = np.zeros_like(result_lane)\n",
    "    warning_status = False\n",
    "\n",
    "    for result in results:\n",
    "        annotator = Annotator(ori_img)\n",
    "        boxes = result.boxes\n",
    "        for box in boxes:\n",
    "            b = box.xyxy[0]\n",
    "            cls = int(box.cls)\n",
    "            p_start, p_end = (int(b[0]), int(b[1])), (int(b[2]), int(b[3]))\n",
    "            \n",
    "            if is_within_center_zone(b, frame_width, frame_height):\n",
    "                cv2.rectangle(black_img, p_start, p_end, color=color_dict[yolo_model.names[cls]], thickness=-1)\n",
    "                \n",
    "                # 경고 조건: 객체가 하단 5% 이상 위치하거나, 감지된 객체가 오토바이인 경우\n",
    "                if int(b[3]) > black_img.shape[0] * 0.95 or yolo_model.names[cls] == 'motorcycle':\n",
    "                    warning_status = True\n",
    "\n",
    "    # 결과 이미지 생성\n",
    "    final_result = cv2.addWeighted(black_img, 0.6, result_lane, 1.0, 0.0)\n",
    "    \n",
    "    if warning_status:\n",
    "        cv2.rectangle(final_result, (0, 0), (600, 140), (255, 0, 0), -1, cv2.LINE_AA)\n",
    "        cv2.putText(final_result, 'Warning!', (0, 100), cv2.FONT_HERSHEY_DUPLEX, 4, (255, 255, 255), thickness=3, lineType=cv2.LINE_AA)\n",
    "\n",
    "    # 결과 프레임 저장\n",
    "    out.write(cv2.cvtColor(final_result, cv2.COLOR_RGB2BGR))\n",
    "\n",
    "# 자원 해제\n",
    "cap.release()\n",
    "out.release()\n",
    "cv2.destroyAllWindows()"
   ]
  }
 ],
 "metadata": {
  "kernelspec": {
   "display_name": "Python 3",
   "language": "python",
   "name": "python3"
  },
  "language_info": {
   "codemirror_mode": {
    "name": "ipython",
    "version": 3
   },
   "file_extension": ".py",
   "mimetype": "text/x-python",
   "name": "python",
   "nbconvert_exporter": "python",
   "pygments_lexer": "ipython3",
   "version": "3.10.11"
  }
 },
 "nbformat": 4,
 "nbformat_minor": 2
}
