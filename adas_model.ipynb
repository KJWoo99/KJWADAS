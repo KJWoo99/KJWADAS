{
 "cells": [
  {
   "cell_type": "markdown",
   "metadata": {},
   "source": [
    "* TODO : AI-HUB `차량 및 사람 인지 영상`에서 다운로드 [링크](https://www.aihub.or.kr/aihubdata/data/view.do?currMenu=115&topMenu=100&dataSetSn=195)\n",
    "* Lane Detection for Carla Driving Simulator 데이터셋 다운로드 [링크](https://www.kaggle.com/datasets/thomasfermi/lane-detection-for-carla-driving-simulator)"
   ]
  },
  {
   "cell_type": "code",
   "execution_count": null,
   "metadata": {},
   "outputs": [],
   "source": [
    "import ultralytics\n",
    "ultralytics.checks()"
   ]
  },
  {
   "cell_type": "code",
   "execution_count": null,
   "metadata": {},
   "outputs": [],
   "source": [
    "cd C:/Users/abc/"
   ]
  },
  {
   "cell_type": "code",
   "execution_count": null,
   "metadata": {},
   "outputs": [],
   "source": [
    "import os\n",
    "import shutil\n",
    "import json\n",
    "import random\n",
    "import yaml\n",
    "import os\n",
    "import cv2\n",
    "import torch\n",
    "import numpy as np\n",
    "import os\n"
   ]
  },
  {
   "cell_type": "code",
   "execution_count": 5,
   "metadata": {},
   "outputs": [],
   "source": [
    "# 서울특별시, 구, 날씨, 시간대, 장소를 각각 리스트로 정의하는 코드\n",
    "\n",
    "city = ['서울특별시']\n",
    "gu = ['영등포구', '종로구', '중구', '용산구', '성동구', '광진구', '동대문구', '중랑구', '성북구', '강북구', '도봉구', '노원구','은평구', \\\n",
    "  '서대문구', '마포구', '양천구', '강서구', '구로구','금천구', '동작구', '관악구', '서초구', '강남구', '송파구', '강동구']\n",
    "weather = ['맑음']\n",
    "gan = ['주간', '야간']\n",
    "sil = ['실내', '실외']"
   ]
  },
  {
   "cell_type": "code",
   "execution_count": 13,
   "metadata": {},
   "outputs": [],
   "source": [
    "# 'label' 폴더의 파일 이름을 변환하여 'labels' 폴더로 복사하는 코드\n",
    "\n",
    "root_folder = 'label'\n",
    "change_folder = 'labels'\n",
    "\n",
    "if not os.path.exists(change_folder):\n",
    "      os.makedirs(change_folder)\n",
    "\n",
    "file_list = os.listdir(root_folder)\n",
    "for file in file_list:\n",
    "  name, ext = file.split('.')\n",
    "  p = name.split(\"_\")\n",
    "  p[1] = str(city.index(p[1]))\n",
    "  p[3] = f\"{gu.index(p[3]):02d}\"\n",
    "  p[4] = str(weather.index(p[4]))\n",
    "  p[5] = str(gan.index(p[5]))\n",
    "  p[6] = str(sil.index(p[6]))\n",
    "  new_name = \"_\".join(p) + '.' + ext\n",
    "  shutil.copyfile(os.path.join(root_folder, file), os.path.join(change_folder, new_name))\n"
   ]
  },
  {
   "cell_type": "code",
   "execution_count": 7,
   "metadata": {},
   "outputs": [],
   "source": [
    "# 'img' 폴더의 이미지 파일 이름을 변환하여 'images' 폴더로 복사하는 코드\n",
    "\n",
    "root_folder = 'img'\n",
    "change_folder = 'images'\n",
    "\n",
    "if not os.path.exists(change_folder):\n",
    "      os.makedirs(change_folder)\n",
    "\n",
    "file_list = os.listdir(root_folder)\n",
    "for file in file_list:\n",
    "  name, ext = file.split('.')\n",
    "  p = name.split(\"_\")\n",
    "  p[1] = str(city.index(p[1]))\n",
    "  p[3] = f\"{gu.index(p[3]):02d}\"\n",
    "  p[4] = str(weather.index(p[4]))\n",
    "  p[5] = str(gan.index(p[5]))\n",
    "  p[6] = str(sil.index(p[6]))\n",
    "  new_name = \"_\".join(p) + '.' + ext\n",
    "  shutil.copyfile(os.path.join(root_folder, file), os.path.join(change_folder, new_name))"
   ]
  },
  {
   "cell_type": "code",
   "execution_count": 14,
   "metadata": {},
   "outputs": [],
   "source": [
    "# XML 형식의 바운딩 박스 좌표를 YOLO 형식으로 변환하는 코드\n",
    "\n",
    "def xml_to_yolo_bbox(bbox, w, h):\n",
    "    # xmin, ymin, xmax, ymax\n",
    "    x_center = float(((bbox[2] + bbox[0]) / 2) / w)\n",
    "    y_center = float(((bbox[3] + bbox[1]) / 2) / h)\n",
    "    width = float((bbox[2] - bbox[0]) / w)\n",
    "    height = float((bbox[3] - bbox[1]) / h)\n",
    "    return [x_center, y_center, width, height]"
   ]
  },
  {
   "cell_type": "code",
   "execution_count": 16,
   "metadata": {},
   "outputs": [],
   "source": [
    "# JSON 형식의 라벨 파일을 YOLO 형식으로 변환하여 새 텍스트 파일로 저장하는 코드\n",
    "\n",
    "label_folder = './labels/'\n",
    "new_folder = './new_labels/'\n",
    "\n",
    "# 새로운 폴더가 없으면 생성\n",
    "if not os.path.isdir(new_folder):\n",
    "    os.mkdir(new_folder)\n",
    "\n",
    "# 클래스와 차량 종류 정의\n",
    "classes = ['car', 'pedestrian']\n",
    "cars = ['일반차량', '목적차량(특장차)', '이륜차']\n",
    "label_list = os.listdir(label_folder)\n",
    "\n",
    "# 라벨 파일 읽고 변환\n",
    "for file in label_list:\n",
    "    try:\n",
    "        with open(os.path.join(label_folder, file), 'r', encoding='utf-8') as json_file:\n",
    "            lab = json.load(json_file)\n",
    "            h = int(lab['camera']['resolution_height'])\n",
    "            w = int(lab['camera']['resolution_width'])\n",
    "            f = open(os.path.join(new_folder, file[:-4]+'txt'), 'a')\n",
    "            for l in lab['annotations']:\n",
    "                if l['label'] in cars or l['label'] == '보행자':\n",
    "                    if l['label'] in cars: \n",
    "                        idx = 0\n",
    "                    else:\n",
    "                        idx = 1\n",
    "                    points = l['points']\n",
    "                    yolo_bbox = xml_to_yolo_bbox([int(points[0][0]), int(points[0][1]), int(points[2][0]), int(points[2][1])], w, h)\n",
    "                    bbox_string = \" \".join([str(x) for x in yolo_bbox])\n",
    "                    result = f\"{idx} {bbox_string}\\n\"\n",
    "                    f.write(result)\n",
    "            f.close()\n",
    "    except Exception as e:\n",
    "        print(f\"파일 {file}을(를) 읽는 중 오류 발생: {e}\")\n"
   ]
  },
  {
   "cell_type": "code",
   "execution_count": 17,
   "metadata": {},
   "outputs": [],
   "source": [
    "# 기존의 'train' 및 'val' 폴더를 삭제하고, 새로운 폴더 구조를 생성하는 코드\n",
    "\n",
    "if os.path.isdir('./train'):\n",
    "    shutil.rmtree('./train')\n",
    "if os.path.isdir('./val'):    \n",
    "    shutil.rmtree('./val')\n",
    "\n",
    "folder_list = ['train', 'val', 'train/images', 'train/labels', 'val/images', 'val/labels']\n",
    "for folder in folder_list:\n",
    "    if not os.path.isdir(folder):\n",
    "        os.mkdir(folder)"
   ]
  },
  {
   "cell_type": "code",
   "execution_count": 19,
   "metadata": {},
   "outputs": [],
   "source": [
    "# 데이터셋을 랜덤하게 분할하여 10%를 검증용(val)으로, 나머지를 학습용(train)으로 복사하는 코드\n",
    "\n",
    "random.seed(2020)\n",
    "\n",
    "root_folder = 'C:/Users/abc/'\n",
    "file_folder = 'new_labels'\n",
    "\n",
    "file_list = os.listdir(file_folder)\n",
    "random.shuffle(file_list)\n",
    "test_ratio = 0.1\n",
    "\n",
    "val_list = file_list[:int(len(file_list)*test_ratio)]\n",
    "train_list = file_list[int(len(file_list)*test_ratio):]\n",
    "\n",
    "for i in val_list:\n",
    "    from_file_path = os.path.join(root_folder, 'images', i[:-4]+'.png')\n",
    "    to_file_path =  os.path.join(root_folder, 'val/images/',i[:-4]+'.png')\n",
    "    shutil.copyfile(from_file_path, to_file_path)\n",
    "    from_file_path = os.path.join(root_folder, file_folder, i)\n",
    "    to_file_path =  os.path.join(root_folder, 'val/labels/',i)\n",
    "    shutil.copyfile(from_file_path, to_file_path)\n",
    "\n",
    "for i in train_list:\n",
    "    from_file_path = os.path.join(root_folder, 'images', i[:-4]+'.png')\n",
    "    to_file_path =  os.path.join(root_folder, 'train/images/',i[:-4]+'.png')\n",
    "    shutil.copyfile(from_file_path, to_file_path)\n",
    "    from_file_path = os.path.join(root_folder, file_folder, i)\n",
    "    to_file_path =  os.path.join(root_folder, 'train/labels/',i)\n",
    "    shutil.copyfile(from_file_path, to_file_path)\n",
    "\n",
    "print(len(os.listdir('train/images')))\n",
    "print(len(os.listdir('train/labels')))\n",
    "print(len(os.listdir('val/images')))\n",
    "print(len(os.listdir('val/labels')))"
   ]
  },
  {
   "cell_type": "code",
   "execution_count": 22,
   "metadata": {},
   "outputs": [],
   "source": [
    "# 데이터셋 경로와 클래스 정보를 YAML 형식으로 저장하는 코드\n",
    "\n",
    "data = dict()\n",
    "\n",
    "data['train'] = 'C:/Users/abc/train'\n",
    "data['val'] = 'C:/Users/abc/val'\n",
    "data['test'] = 'C:/Users/abc/val'\n",
    "\n",
    "data['nc'] = 2\n",
    "data['names'] =['car','pedestrian']\n",
    "\n",
    "\n",
    "with open('car_detection.yaml', 'w') as f:\n",
    "\tyaml.dump(data, f)"
   ]
  },
  {
   "cell_type": "code",
   "execution_count": null,
   "metadata": {},
   "outputs": [],
   "source": [
    "# 라벨 이미지를 읽어 두 개의 마스크 이미지로 변환하여 저장하는 코드\n",
    "# 왼쪽 차선(1)과 오른쪽 차선(2)에 대한 마스크를 각각 생성\n",
    "\n",
    "dir_path = 'C:/Users/abc/'\n",
    "save_path = 'C:/Users/abc/'\n",
    "label_images = os.listdir(dir_path)\n",
    "\n",
    "if not os.path.exists(os.path.join(save_path, 'masks/0')):\n",
    "      os.makedirs(os.path.join(save_path, 'masks/0'))\n",
    "\n",
    "if not os.path.exists(os.path.join(save_path, 'masks/1')):\n",
    "      os.makedirs(os.path.join(save_path, 'masks/1'))\n",
    "      \n",
    "for file in label_images:\n",
    "    img = cv2.imread(os.path.join(dir_path, file))\n",
    "    gray_img = cv2.cvtColor(img, cv2.COLOR_BGR2GRAY)\n",
    "\n",
    "    mask_l = np.zeros_like(gray_img)\n",
    "    mask_r = np.zeros_like(gray_img)\n",
    "    for i in range(gray_img.shape[0]):\n",
    "        for j in range(gray_img.shape[1]):\n",
    "            if gray_img[i][j] == 1:\n",
    "                mask_l[i][j]= 255\n",
    "            else:\n",
    "                mask_l[i][j] = 0\n",
    "            if gray_img[i][j] == 2:\n",
    "                mask_r[i][j]= 255\n",
    "            else:\n",
    "                mask_r[i][j] = 0\n",
    "    cv2.imwrite(os.path.join(save_path, 'masks/0', file), mask_l)\n",
    "    cv2.imwrite(os.path.join(save_path, 'masks/1', file), mask_r)"
   ]
  },
  {
   "cell_type": "code",
   "execution_count": null,
   "metadata": {},
   "outputs": [],
   "source": [
    "# 라벨 이미지 파일 이름에서 '_label'을 제거하여 이름을 변경하는 코드\n",
    "# 왼쪽 차선(0)과 오른쪽 차선(1) 마스크 이미지의 이름을 동시에 수정\n",
    "\n",
    "dir_path1 = 'C:/Users/abc/masks/1'\n",
    "dir_path0 = 'C:/Users/abc/masks/0'\n",
    "\n",
    "label_images = os.listdir(dir_path)\n",
    "for file in label_images:\n",
    "    new = file.replace('_label', '')\n",
    "    os.rename(os.path.join(dir_path0, file), os.path.join(dir_path0, new))\n",
    "    os.rename(os.path.join(dir_path1, file), os.path.join(dir_path1, new))"
   ]
  },
  {
   "cell_type": "code",
   "execution_count": null,
   "metadata": {},
   "outputs": [],
   "source": [
    "cd C:/Users/abc/pytorch-nested-unet"
   ]
  },
  {
   "cell_type": "code",
   "execution_count": 36,
   "metadata": {},
   "outputs": [],
   "source": [
    "# 이미지 및 마스크 디렉토리를 설정하는 코드\n",
    "# 이미지 디렉토리와 왼쪽(0) 및 오른쪽(1) 차선 마스크 디렉토리의 경로를 지정\n",
    "\n",
    "import matplotlib.pyplot as plt\n",
    "%matplotlib inline\n",
    "\n",
    "DATA_DIR = './inputs/lane/'\n",
    "\n",
    "image_dir = os.path.join(DATA_DIR, 'images')\n",
    "mask_dir_l = os.path.join(DATA_DIR, 'masks/0')\n",
    "mask_dir_r = os.path.join(DATA_DIR, 'masks/1')"
   ]
  },
  {
   "cell_type": "code",
   "execution_count": null,
   "metadata": {},
   "outputs": [],
   "source": [
    "cd C:/Users/abc/"
   ]
  },
  {
   "cell_type": "code",
   "execution_count": null,
   "metadata": {},
   "outputs": [],
   "source": [
    "# PyTorch와 CUDA 관련 정보를 출력하는 코드\n",
    "\n",
    "print(f\"PyTorch version: {torch.__version__}\")\n",
    "print(f\"CUDA available: {torch.cuda.is_available()}\")\n",
    "print(f\"CUDA version: {torch.version.cuda}\")\n",
    "print(f\"Number of CUDA devices: {torch.cuda.device_count()}\")\n",
    "\n",
    "if torch.cuda.is_available():\n",
    "    for i in range(torch.cuda.device_count()):\n",
    "        print(f\"CUDA Device {i}: {torch.cuda.get_device_name(i)}\")\n",
    "else:\n",
    "    print(\"No CUDA devices detected.\")\n",
    "\n",
    "# 추가적인 CUDA 정보 출력\n",
    "if torch.cuda.is_available():\n",
    "    current_device = torch.cuda.current_device()\n",
    "    print(f\"Current CUDA device: {current_device}\")\n",
    "    print(f\"Device capability: {torch.cuda.get_device_capability(current_device)}\")\n",
    "    print(f\"Total memory: {torch.cuda.get_device_properties(current_device).total_memory / 1e9:.2f} GB\")"
   ]
  },
  {
   "cell_type": "code",
   "execution_count": null,
   "metadata": {},
   "outputs": [],
   "source": [
    "# YOLOv8 모델을 설정하고 주어진 데이터셋으로 훈련하는 코드\n",
    "# 훈련 데이터와 하이퍼파라미터를 설정하고, CUDA를 사용하여 훈련을 수행\n",
    "\n",
    "from ultralytics import YOLO\n",
    "model = YOLO('yolov8s.yaml')\n",
    "results = model.train(\n",
    "    data='C:/Users/abc/car_detection.yaml',\n",
    "    epochs=4,\n",
    "    batch=16,\n",
    "    device='cuda',\n",
    "    patience=30,\n",
    "    name='car_detection_abc',\n",
    "    # amp=False  # AMP 활성화\n",
    ")"
   ]
  },
  {
   "cell_type": "code",
   "execution_count": null,
   "metadata": {},
   "outputs": [],
   "source": [
    "cd C:/Users/abc/"
   ]
  },
  {
   "cell_type": "code",
   "execution_count": null,
   "metadata": {},
   "outputs": [],
   "source": [
    "# 저장된 YOLO 모델을 불러와 주어진 데이터셋으로 검증하는 코드\n",
    "# 검증 결과로 mAP@50-95 및 mAP@50 값을 출력\n",
    "\n",
    "from ultralytics import YOLO\n",
    "import torch\n",
    "\n",
    "# 모델 경로\n",
    "best_model_path = 'cd C:/Users/abc/car_detection_abc.pt'\n",
    "# 데이터셋 구성 파일 경로 (yaml 파일 경로)\n",
    "data_path = 'C:/Users/abc/car_detection.yaml'\n",
    "\n",
    "# 모델 불러오기\n",
    "model = YOLO(best_model_path) \n",
    "\n",
    "# 모델 검증 수행\n",
    "try:\n",
    "    results = model.val(data=data_path, verbose=True)\n",
    "    \n",
    "    # 결과 출력\n",
    "    print(\"\\nValidation Results:\")\n",
    "    print(f\"mAP@50-95: {results.box.map:.4f}\")\n",
    "    print(f\"mAP@50: {results.box.map50:.4f}\")\n",
    "\n",
    "except Exception as e:\n",
    "    print(f\"An error occurred: {e}\")\n",
    "    print(\"Please check your model file and data path.\")\n"
   ]
  },
  {
   "cell_type": "code",
   "execution_count": null,
   "metadata": {},
   "outputs": [],
   "source": [
    "cd C:/Users/abc/pytorch-nested-unet"
   ]
  },
  {
   "cell_type": "code",
   "execution_count": null,
   "metadata": {},
   "outputs": [],
   "source": [
    "# NestedUNet 아키텍처를 사용하여 주어진 데이터셋으로 모델을 훈련하는 명령\n",
    "# 훈련에 필요한 하이퍼파라미터를 설정 (에포크, 배치 크기, 입력 크기, 옵티마이저 등)\n",
    "\n",
    "!python train.py --dataset lane --arch NestedUNet --name lane_segmentation --epochs 123 --batch_size 123 --input_w 123 --input_h 123 --optimizer Adam --num_classes 123 --lr 123"
   ]
  }
 ],
 "metadata": {
  "kernelspec": {
   "display_name": "Python 3",
   "language": "python",
   "name": "python3"
  },
  "language_info": {
   "codemirror_mode": {
    "name": "ipython",
    "version": 3
   },
   "file_extension": ".py",
   "mimetype": "text/x-python",
   "name": "python",
   "nbconvert_exporter": "python",
   "pygments_lexer": "ipython3",
   "version": "3.12.1"
  },
  "orig_nbformat": 4
 },
 "nbformat": 4,
 "nbformat_minor": 2
}
